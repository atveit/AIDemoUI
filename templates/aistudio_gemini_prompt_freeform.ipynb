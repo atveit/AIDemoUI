{
  "cells": [
    {
      "cell_type": "markdown",
      "metadata": {
        "id": "view-in-github",
        "colab_type": "text"
      },
      "source": [
        "<a href=\"https://colab.research.google.com/github/atveit/AIDemoUI/blob/main/templates/aistudio_gemini_prompt_freeform.ipynb\" target=\"_parent\"><img src=\"https://colab.research.google.com/assets/colab-badge.svg\" alt=\"Open In Colab\"/></a>"
      ]
    },
    {
      "cell_type": "markdown",
      "metadata": {
        "id": "Tce3stUlHN0L"
      },
      "source": [
        "##### Copyright 2023 Google LLC"
      ]
    },
    {
      "cell_type": "code",
      "execution_count": null,
      "metadata": {
        "cellView": "form",
        "id": "tuOe1ymfHZPu"
      },
      "outputs": [],
      "source": [
        "# @title Licensed under the Apache License, Version 2.0 (the \"License\");\n",
        "# you may not use this file except in compliance with the License.\n",
        "# You may obtain a copy of the License at\n",
        "#\n",
        "# https://www.apache.org/licenses/LICENSE-2.0\n",
        "#\n",
        "# Unless required by applicable law or agreed to in writing, software\n",
        "# distributed under the License is distributed on an \"AS IS\" BASIS,\n",
        "# WITHOUT WARRANTIES OR CONDITIONS OF ANY KIND, either express or implied.\n",
        "# See the License for the specific language governing permissions and\n",
        "# limitations under the License."
      ]
    },
    {
      "cell_type": "markdown",
      "metadata": {
        "id": "FKwyTRdwB8aW"
      },
      "source": [
        "## Setup"
      ]
    },
    {
      "cell_type": "code",
      "execution_count": 1,
      "metadata": {
        "id": "RXInneX6xx7c"
      },
      "outputs": [],
      "source": [
        "!pip install -U -q \"google-generativeai>=0.8.2\""
      ]
    },
    {
      "cell_type": "code",
      "execution_count": 2,
      "metadata": {
        "id": "kWIuwKG2_oWE",
        "colab": {
          "base_uri": "https://localhost:8080/"
        },
        "outputId": "94dccc7c-ea0e-4f06-c384-69056516c36f"
      },
      "outputs": [
        {
          "output_type": "stream",
          "name": "stdout",
          "text": [
            "[]\n"
          ]
        }
      ],
      "source": [
        "# import necessary modules.\n",
        "import base64\n",
        "import copy\n",
        "import json\n",
        "import pathlib\n",
        "import requests\n",
        "\n",
        "\n",
        "import PIL.Image\n",
        "import IPython.display\n",
        "from IPython.display import Markdown\n",
        "\n",
        "try:\n",
        "    # The SDK will automatically read it from the GOOGLE_API_KEY environment variable.\n",
        "    # In Colab get the key from Colab-secrets (\"🔑\" in the left panel).\n",
        "    import os\n",
        "    from google.colab import userdata\n",
        "\n",
        "    os.environ[\"GOOGLE_API_KEY\"] = userdata.get(\"GOOGLE_API_KEY\")\n",
        "except ImportError:\n",
        "    pass\n",
        "\n",
        "import google.generativeai as genai\n",
        "\n",
        "# Parse the arguments\n",
        "\n",
        "model = 'gemini-2.0-flash-exp' # @param {isTemplate: true}\n",
        "contents_b64 = 'W10=' # @param {isTemplate: true}\n",
        "generation_config_b64 = 'eyJ0ZW1wZXJhdHVyZSI6MSwidG9wX3AiOjAuOTUsInRvcF9rIjo0MCwibWF4X291dHB1dF90b2tlbnMiOjgxOTJ9' # @param {isTemplate: true}\n",
        "safety_settings_b64 = \"e30=\"  # @param {isTemplate: true}\n",
        "\n",
        "gais_contents = json.loads(base64.b64decode(contents_b64))\n",
        "\n",
        "generation_config = json.loads(base64.b64decode(generation_config_b64))\n",
        "safety_settings = json.loads(base64.b64decode(safety_settings_b64))\n",
        "\n",
        "stream = False\n",
        "\n",
        "# Convert and upload the files\n",
        "\n",
        "tempfiles = pathlib.Path(f\"tempfiles\")\n",
        "tempfiles.mkdir(parents=True, exist_ok=True)\n",
        "\n",
        "\n",
        "drive = None\n",
        "def upload_file_data(file_data, index):\n",
        "    \"\"\"Upload files to the Files API.\n",
        "\n",
        "    For each file, Google AI Studio either sent:\n",
        "    - a Google Drive ID,\n",
        "    - a URL,\n",
        "    - a file path, or\n",
        "    - The raw bytes (`inline_data`).\n",
        "\n",
        "    The API only understands `inline_data` or it's Files API.\n",
        "    This code, uploads files to the files API where the API can access them.\n",
        "    \"\"\"\n",
        "\n",
        "    mime_type = file_data[\"mime_type\"]\n",
        "    if drive_id := file_data.pop(\"drive_id\", None):\n",
        "        if drive is None:\n",
        "          from google.colab import drive\n",
        "          drive.mount(\"/gdrive\")\n",
        "\n",
        "        path = next(\n",
        "            pathlib.Path(f\"/gdrive/.shortcut-targets-by-id/{drive_id}\").glob(\"*\")\n",
        "        )\n",
        "        print(\"Uploading:\", str(path))\n",
        "        file_info = genai.upload_file(path=path, mime_type=mime_type)\n",
        "        file_data[\"file_uri\"] = file_info.uri\n",
        "        return\n",
        "\n",
        "    if url := file_data.pop(\"url\", None):\n",
        "        response = requests.get(url)\n",
        "        data = response.content\n",
        "        name = url.split(\"/\")[-1]\n",
        "        path = tempfiles / str(index)\n",
        "        path.write_bytes(data)\n",
        "        print(\"Uploading:\", url)\n",
        "        file_info = genai.upload_file(path, display_name=name, mime_type=mime_type)\n",
        "        file_data[\"file_uri\"] = file_info.uri\n",
        "        return\n",
        "\n",
        "    if name := file_data.get(\"filename\", None):\n",
        "        if not pathlib.Path(name).exists():\n",
        "            raise IOError(\n",
        "                f\"local file: `{name}` does not exist. You can upload files \"\n",
        "                'to Colab using the file manager (\"📁 Files\" in the left '\n",
        "                \"toolbar)\"\n",
        "            )\n",
        "        file_info = genai.upload_file(path, display_name=name, mime_type=mime_type)\n",
        "        file_data[\"file_uri\"] = file_info.uri\n",
        "        return\n",
        "\n",
        "    if \"inline_data\" in file_data:\n",
        "        return\n",
        "\n",
        "    raise ValueError(\"Either `drive_id`, `url` or `inline_data` must be provided.\")\n",
        "\n",
        "\n",
        "contents = copy.deepcopy(gais_contents)\n",
        "\n",
        "index = 0\n",
        "for content in contents:\n",
        "    for n, part in enumerate(content[\"parts\"]):\n",
        "        if file_data := part.get(\"file_data\", None):\n",
        "            upload_file_data(file_data, index)\n",
        "            index += 1\n",
        "\n",
        "import json\n",
        "print(json.dumps(contents, indent=4))"
      ]
    },
    {
      "cell_type": "code",
      "source": [],
      "metadata": {
        "id": "LCkKFtemTN1R"
      },
      "execution_count": null,
      "outputs": []
    },
    {
      "cell_type": "markdown",
      "metadata": {
        "id": "E7zAD69vE92b"
      },
      "source": [
        "## Call `generate_content`"
      ]
    },
    {
      "cell_type": "code",
      "execution_count": 4,
      "metadata": {
        "id": "LB2LxPmAB95V",
        "colab": {
          "base_uri": "https://localhost:8080/",
          "height": 946
        },
        "outputId": "7c436f1e-9c1c-4d32-88e4-0c74a3bb8c81"
      },
      "outputs": [
        {
          "output_type": "display_data",
          "data": {
            "text/plain": [
              "<IPython.core.display.Markdown object>"
            ],
            "text/markdown": "Okay, here's a story about a poodle in two scenes, with an image description for each:\n\n**Scene 1: The Agony of the Awkward Trim**\n\n**Story:**\n\nPercy, a standard poodle of the fluffiest, most cloud-like variety, was having a crisis. Usually, he pranced with the confidence of a canine king, his white curls bouncing with every majestic step. Today, however, he was a study in misery. He'd just returned from his regular grooming appointment, and something had gone terribly, terribly wrong. Instead of the elegant, poofy coif he was accustomed to, he was sporting a…thing. A strange, sculpted, almost geometric…thing. His once-noble head looked like a topiary gone rogue. Worst of all, the groomer, bless her heart, had decided that he needed \"a bit more personality\" and had added little pom-poms to his hindquarters. Percy stood rigidly by the living room window, his tail tucked tightly between his legs, contemplating the sheer indignity of it all. He could see squirrels chattering in the backyard, their little tails twitching in what he could only assume was amusement at his expense. The image of him reflected in the window was just too much. He let out a low, mournful groan. The world was cruel, and he was, undeniably, a poodle in distress.\n\n**Image Description:**\n\n**Image 1:** A full shot of a large, white standard poodle named Percy, standing rigidly in front of a large bay window.  He is positioned slightly to the left of the frame, facing toward the window but with his head angled down in an expression of defeat. Sunlight streams in through the window, highlighting the awkward, overly sculpted haircut on his head.  His fur looks choppy and uneven, and two comical, rounded pom-poms are attached to his rear.  He has a downturned mouth and is casting a forlorn gaze toward the floor.  Outside the window, we can see the blurred outlines of trees, a grassy backyard, and a few squirrels seemingly chattering on a branch. The room is comfortably furnished, with a plush rug and a glimpse of a couch behind Percy, suggesting a well-loved home. The overall feeling is one of humor tinged with pathos.\n\n**Scene 2: The Redemption of the Runway**\n\n**Story:**\n\nThree weeks had passed. Three weeks of agonizing over his coiffure, three weeks of hiding his pom-poms, three weeks of refusing all forms of affection (except the occasional secret ear scratch from his human). Then, an invitation arrived. Not just any invitation, but one to the annual \"Paws & Claws Fashion Show\" at the local park. Percy's human, ever the optimist, thought it would be good for his confidence. Percy was dubious. He'd imagined strutting his stuff with grace and sophistication but felt doomed to be the laughingstock in his current state. But, as he was being led down the makeshift runway, something shifted. The crowd cheered. Not a pity cheer. A genuine cheer. And then, it clicked. It wasn’t about the cut. It was about *him*. He was a poodle. A magnificent, albeit slightly geometrically-challenged poodle. He straightened his back, raised his chin, and with a flick of his still-rather-ridiculous pom-pom tail, Percy transformed into a runway star. He pranced, he posed, he even managed a perfectly executed 'sit-pretty' maneuver that sent the crowd wild. The awkward trim became his signature. The pom-poms, his trademark. Percy, once ashamed, had finally found his groove. \n\n**Image Description:**\n\n**Image 2:**  A slightly wider shot than the previous, this image captures Percy mid-strut on a makeshift runway set up in a sunny park. A simple red carpet leads towards the camera. Percy, now beaming with confidence, is mid-stride, his head held high and his tail (with its pom-poms!) held jauntily. He is surrounded by a crowd of people, some of whom are taking photos and smiling broadly.  The scene is vibrant and full of life, with lush green trees forming a backdrop. Other well-groomed dogs can be seen waiting their turn, but they are blurred in the background, keeping the focus solely on Percy.  The lighting is bright, and the feeling is one of joyful triumph.\n\nHopefully, this captures the story you were looking for! Let me know if you have any other requests.\n"
          },
          "metadata": {}
        }
      ],
      "source": [
        "from IPython.display import display\n",
        "from IPython.display import Markdown\n",
        "\n",
        "contents = \"Generate a story about a poodle in 2 scenes and one image per scene\"\n",
        "\n",
        "# Call the model and print the response.\n",
        "gemini = genai.GenerativeModel(model_name=model)\n",
        "\n",
        "response = gemini.generate_content(\n",
        "    contents,\n",
        "    generation_config=generation_config,\n",
        "    safety_settings=safety_settings,\n",
        "    stream=stream,\n",
        ")\n",
        "\n",
        "display(Markdown(response.text))"
      ]
    },
    {
      "cell_type": "markdown",
      "metadata": {
        "id": "9c9d345e9868"
      },
      "source": [
        "<table class=\"tfo-notebook-buttons\" align=\"left\">\n",
        "  <td>\n",
        "    <a target=\"_blank\" href=\"https://ai.google.dev/gemini-api/docs\"><img src=\"https://ai.google.dev/static/site-assets/images/docs/notebook-site-button.png\" height=\"32\" width=\"32\" />Docs on ai.google.dev</a>\n",
        "  </td>\n",
        "  <td>\n",
        "    <a target=\"_blank\" href=\"https://github.com/google-gemini/cookbook/blob/main/quickstarts\"><img src=\"https://www.tensorflow.org/images/GitHub-Mark-32px.png\" />More notebooks in the Cookbook</a>\n",
        "  </td>\n",
        "</table>"
      ]
    },
    {
      "cell_type": "markdown",
      "metadata": {
        "id": "F91AeeGO1ncU"
      },
      "source": [
        "## [optional] Show the conversation\n",
        "\n",
        "This section displays the conversation received from Google AI Studio."
      ]
    },
    {
      "cell_type": "code",
      "execution_count": null,
      "metadata": {
        "id": "yoL3p3KPylFW"
      },
      "outputs": [],
      "source": [
        "# @title Show the conversation, in colab.\n",
        "import mimetypes\n",
        "\n",
        "def show_file(file_data):\n",
        "    mime_type = file_data[\"mime_type\"]\n",
        "\n",
        "    if drive_id := file_data.get(\"drive_id\", None):\n",
        "        path = next(\n",
        "            pathlib.Path(f\"/gdrive/.shortcut-targets-by-id/{drive_id}\").glob(\"*\")\n",
        "        )\n",
        "        name = path\n",
        "        # data = path.read_bytes()\n",
        "        kwargs = {\"filename\": path}\n",
        "    elif url := file_data.get(\"url\", None):\n",
        "        name = url\n",
        "        kwargs = {\"url\": url}\n",
        "        # response = requests.get(url)\n",
        "        # data = response.content\n",
        "    elif data := file_data.get(\"inline_data\", None):\n",
        "        name = None\n",
        "        kwargs = {\"data\": data}\n",
        "    elif name := file_data.get(\"filename\", None):\n",
        "        if not pathlib.Path(name).exists():\n",
        "            raise IOError(\n",
        "                f\"local file: `{name}` does not exist. You can upload files to \"\n",
        "                'Colab using the file manager (\"📁 Files\"in the left toolbar)'\n",
        "            )\n",
        "    else:\n",
        "        raise ValueError(\"Either `drive_id`, `url` or `inline_data` must be provided.\")\n",
        "\n",
        "        print(f\"File:\\n    name: {name}\\n    mime_type: {mime_type}\\n\")\n",
        "        return\n",
        "\n",
        "    format = mimetypes.guess_extension(mime_type).strip(\".\")\n",
        "    if mime_type.startswith(\"image/\"):\n",
        "        image = IPython.display.Image(**kwargs, width=256)\n",
        "        IPython.display.display(image)\n",
        "        print()\n",
        "        return\n",
        "\n",
        "    if mime_type.startswith(\"audio/\"):\n",
        "        if len(data) < 2**12:\n",
        "            audio = IPython.display.Audio(**kwargs)\n",
        "            IPython.display.display(audio)\n",
        "            print()\n",
        "            return\n",
        "\n",
        "    if mime_type.startswith(\"video/\"):\n",
        "        if len(data) < 2**12:\n",
        "            audio = IPython.display.Video(**kwargs, mimetype=mime_type)\n",
        "            IPython.display.display(audio)\n",
        "            print()\n",
        "            return\n",
        "\n",
        "    print(f\"File:\\n    name: {name}\\n    mime_type: {mime_type}\\n\")\n",
        "\n",
        "\n",
        "for content in gais_contents:\n",
        "    if role := content.get(\"role\", None):\n",
        "        print(\"Role:\", role, \"\\n\")\n",
        "\n",
        "    for n, part in enumerate(content[\"parts\"]):\n",
        "        if text := part.get(\"text\", None):\n",
        "            print(text, \"\\n\")\n",
        "\n",
        "        elif file_data := part.get(\"file_data\", None):\n",
        "            show_file(file_data)\n",
        "\n",
        "    print(\"-\" * 80, \"\\n\")"
      ]
    },
    {
      "cell_type": "markdown",
      "source": [
        "# GEMINI WITH MULTIPLE IMAGES INLINED IN TEXT"
      ],
      "metadata": {
        "id": "w5ZGYznmTO5B"
      }
    },
    {
      "cell_type": "code",
      "source": [],
      "metadata": {
        "id": "BCJn70fITR_N"
      },
      "execution_count": null,
      "outputs": []
    },
    {
      "source": [
        "import base64\n",
        "import json\n",
        "\n",
        "# Example for generating text with multiple images\n",
        "\n",
        "contents = [\n",
        "        {\n",
        "            \"role\": \"user\",  # The role is \"user\"\n",
        "            \"parts\": [\n",
        "                {\n",
        "                    \"text\": \"Generate a story about a poodle in 2 scenes and one image per scene\"\n",
        "                },\n",
        "            ]\n",
        "        },\n",
        "]\n",
        "\n",
        "# Convert the contents to base64\n",
        "contents_b64 = base64.b64encode(json.dumps(contents).encode()).decode()\n",
        "\n",
        "# Call the generate_content method\n",
        "response = gemini.generate_content(\n",
        "    contents_b64,\n",
        "    generation_config=generation_config,\n",
        "    safety_settings=safety_settings,\n",
        "    stream=stream,\n",
        ")"
      ],
      "cell_type": "code",
      "metadata": {
        "id": "mJdW0sv5TU31"
      },
      "execution_count": 6,
      "outputs": []
    },
    {
      "source": [
        "def show_file(file_data):\n",
        "        mime_type = file_data[\"mime_type\"]\n",
        "\n",
        "        if data := file_data.get(\"inline_data\", None):\n",
        "            if mime_type.startswith(\"image/\"):\n",
        "                image = IPython.display.Image(data=data, width=256)\n",
        "                IPython.display.display(image)\n",
        "                print()\n",
        "                return\n",
        "            else:\n",
        "                print(f\"File with mime_type: {mime_type} not supported\")\n",
        "                return\n",
        "\n",
        "        print(f\"File data not found or not supported\")"
      ],
      "cell_type": "code",
      "metadata": {
        "id": "MSHtuqdtTb2b"
      },
      "execution_count": 7,
      "outputs": []
    },
    {
      "source": [
        "print(response.candidates)"
      ],
      "cell_type": "code",
      "metadata": {
        "id": "5o5vVbGzTdjO",
        "outputId": "e873c2ff-1762-4906-8704-3ffb160e33ea",
        "colab": {
          "base_uri": "https://localhost:8080/"
        }
      },
      "execution_count": 10,
      "outputs": [
        {
          "output_type": "stream",
          "name": "stdout",
          "text": [
            "[content {\n",
            "  parts {\n",
            "    text: \"Okay, here\\'s a story about a poodle in two scenes, with a description of an image for each:\\n\\n**Scene 1:**\\n\\nThe late afternoon sun cast long, lazy shadows across Mrs. Higgins\\' manicured lawn.  Fluffy, a purebred apricot poodle with a perpetually curious tilt to his head, was engaged in his favorite pastime: observing the world from the sun-drenched patio.  He wasn\\'t interested in squirrels or butterflies today; he was focused on the little red ball that had rolled under the rose bushes.  His nose twitched, his tail gave a tentative wag, and his long, fluffy ears drooped slightly as he tried to gauge the distance. He nudged a nearby terracotta pot with his nose, then whined softly, frustrated by the prickly barrier of thorns.  Fluffy was a master of patience, however, and he knew that with enough strategic maneuvering, that ball would be his.\\n\\n**Image for Scene 1:**\\n\\n*   **Description:** A wide shot of a manicured lawn in golden afternoon light.  In the foreground, a poodle with apricot fur, his head cocked inquisitively, stands on a stone patio.  He\\'s looking intently at a bright red ball partially hidden under rose bushes. The poodle\\'s tail is barely visible and wagging softly. The rose bushes are in full bloom with pink roses, and a terracotta pot sits next to the poodle.  The overall tone is warm and peaceful.\\n\\n**Scene 2:**\\n\\nTen minutes later, Fluffy, triumphant, bounded back onto the patio.  The red ball was firmly lodged in his mouth, its rubbery surface slightly dented from his enthusiastic chomping.  He pranced around Mrs. Higgins\\' outdoor wicker chair, tail wagging furiously, letting out a series of happy, muffled barks. He dropped the ball at Mrs. Higgins\\' feet, then nudged her hand with his nose, his dark eyes sparkling with pride.  Mrs. Higgins, reading a book, smiled and scratched him behind the ears, showering him with well-deserved praise. Fluffy, finally satisfied, curled up at her feet, the red ball tucked protectively between his paws.\\n\\n**Image for Scene 2:**\\n\\n*   **Description:** A close-up shot of Fluffy the poodle, happily holding a red ball in his mouth.  He is standing next to a woman\\'s feet, the woman is wearing a light colored dress and a portion of a wicker chair can be seen in the background. The poodle\\'s tail is blurred from wagging so hard and his eyes are bright and full of joy.  The focus is on the poodle and his triumphant expression. The scene is brightly lit, suggesting the sun is still shining.\\n\\nI hope you enjoy the story! Let me know if you\\'d like to try another one.\\n\"\n",
            "  }\n",
            "  role: \"model\"\n",
            "}\n",
            "finish_reason: STOP\n",
            "safety_ratings {\n",
            "  category: HARM_CATEGORY_HATE_SPEECH\n",
            "  probability: NEGLIGIBLE\n",
            "}\n",
            "safety_ratings {\n",
            "  category: HARM_CATEGORY_DANGEROUS_CONTENT\n",
            "  probability: NEGLIGIBLE\n",
            "}\n",
            "safety_ratings {\n",
            "  category: HARM_CATEGORY_HARASSMENT\n",
            "  probability: NEGLIGIBLE\n",
            "}\n",
            "safety_ratings {\n",
            "  category: HARM_CATEGORY_SEXUALLY_EXPLICIT\n",
            "  probability: NEGLIGIBLE\n",
            "}\n",
            "avg_logprobs: -0.74162748671069589\n",
            "]\n"
          ]
        }
      ]
    },
    {
      "cell_type": "code",
      "source": [],
      "metadata": {
        "id": "BEVcGXYGTk_t"
      },
      "execution_count": null,
      "outputs": []
    }
  ],
  "metadata": {
    "colab": {
      "collapsed_sections": [
        "Tce3stUlHN0L"
      ],
      "name": "aistudio_gemini_prompt_freeform.ipynb",
      "toc_visible": true,
      "provenance": [],
      "include_colab_link": true
    },
    "kernelspec": {
      "display_name": "Python 3",
      "name": "python3"
    }
  },
  "nbformat": 4,
  "nbformat_minor": 0
}